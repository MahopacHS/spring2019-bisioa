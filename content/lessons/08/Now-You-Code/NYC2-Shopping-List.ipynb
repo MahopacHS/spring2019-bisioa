{
  "cells": [
    {
      "metadata": {},
      "cell_type": "markdown",
      "source": "# Now You Code 2: Shopping List\n\nWrite a program to input a list of grocery items for your shopping list and then writes them to a file a line at a time.  The program should keep asking you to enter grocery items until you type `'done'`.\n\nAfter you complete the list, the program should then load the file and read the list back to you by printing each item out.\n\nSample Run:\n\n```\nLet's make a shopping list. Type 'done' when you're finished:\nEnter Item: milk\nEnter Item: cheese\nEnter Item: eggs\nEnter Item: beer\nEnter Item: apples\nEnter Item: done\nYour shopping list:\nmilk\ncheese\neggs\nbeer\napples\n```\n"
    },
    {
      "metadata": {
        "collapsed": true
      },
      "cell_type": "markdown",
      "source": "## Step 1: Problem Analysis\n\nInputs:\n\n    grocery list or done\n    \n    \nOutputs:\n\n    what's in the grocery list\n    \nAlgorithm (Steps in Program):\n\n"
    },
    {
      "metadata": {
        "trusted": true
      },
      "cell_type": "code",
      "source": "while True:\n    filename = \"NYC2-shopping-list.txt\"\n    print(\"Make your shopping list, type 'done' when finished.\")\n    groceries = input(\"Enter item: \")\n    if groceries != \"done\":\n       \n    else:\n        break",
      "execution_count": 4,
      "outputs": [
        {
          "output_type": "error",
          "ename": "IndentationError",
          "evalue": "expected an indented block (<ipython-input-4-3a56276c4aec>, line 7)",
          "traceback": [
            "\u001b[0;36m  File \u001b[0;32m\"<ipython-input-4-3a56276c4aec>\"\u001b[0;36m, line \u001b[0;32m7\u001b[0m\n\u001b[0;31m    break\u001b[0m\n\u001b[0m         ^\u001b[0m\n\u001b[0;31mIndentationError\u001b[0m\u001b[0;31m:\u001b[0m expected an indented block\n"
          ]
        }
      ]
    },
    {
      "metadata": {
        "collapsed": true
      },
      "cell_type": "markdown",
      "source": "## Step 3: Refactoring\n\nRefactor the part of your program which reads the shopping list from the file into a separate user-defined function called `readShoppingList` \nre-write your program to use this function.\n\n## ReadShoppingList function\n\nInputs:\n\nOutputs:\n\nAlgorithm (Steps in Program):\n\n\n\n"
    },
    {
      "metadata": {
        "collapsed": true,
        "trusted": false
      },
      "cell_type": "code",
      "source": "## Step 4: Write program again with refactored code.\ndef readShoppingList():\n    shoppingList = []\n    # todo read shopping list here\n    filename = \"NYC2-shopping-list.txt\"\n    with open(filename, 'r') as f:\n        filename.read\n    return shoppingList\n\n\n# TODO Main code here\n\n",
      "execution_count": 2,
      "outputs": []
    },
    {
      "metadata": {},
      "cell_type": "markdown",
      "source": "## Step 5: Questions\n\n1. Is the refactored code in step 4 easier to read? Why or why not?\n2. Explain how this program could be refarctored further (there's one thing that's obvious).\n3. Describe how this program can be modified to support multiple shopping lists?\n"
    },
    {
      "metadata": {},
      "cell_type": "markdown",
      "source": "## Reminder of Evaluation Criteria\n\n1. What the problem attempted (analysis, code, and answered questions) ?\n2. What the problem analysis thought out? (does the program match the plan?)\n3. Does the code execute without syntax error?\n4. Does the code solve the intended problem?\n5. Is the code well written? (easy to understand, modular, and self-documenting, handles errors)\n"
    }
  ],
  "metadata": {
    "anaconda-cloud": {},
    "kernelspec": {
      "name": "python3",
      "display_name": "Python 3",
      "language": "python"
    },
    "language_info": {
      "mimetype": "text/x-python",
      "nbconvert_exporter": "python",
      "name": "python",
      "pygments_lexer": "ipython3",
      "version": "3.5.4",
      "file_extension": ".py",
      "codemirror_mode": {
        "version": 3,
        "name": "ipython"
      }
    }
  },
  "nbformat": 4,
  "nbformat_minor": 1
}