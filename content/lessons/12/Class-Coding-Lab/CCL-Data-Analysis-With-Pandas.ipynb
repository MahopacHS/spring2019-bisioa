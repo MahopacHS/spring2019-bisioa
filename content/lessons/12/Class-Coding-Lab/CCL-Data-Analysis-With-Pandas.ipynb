{
  "cells": [
    {
      "metadata": {},
      "cell_type": "markdown",
      "source": "# In-Class Coding Lab: Data Analysis with Pandas\n\nIn this lab, we will perform a data analysis on the **RMS Titanic** passenger list. The RMS Titanic is one of the most famous ocean liners in history. On April 15, 1912 it sank after colliding with an iceberg in the North Atlantic Ocean. To learn more, read here: https://en.wikipedia.org/wiki/RMS_Titanic \n\nOur goal today is to perform a data analysis on a subset of the passenger list. We're looking for insights as to which types of passengers did and didn't survive. Women? Children? 1st Class Passengers? 3rd class? Etc. \n\nI'm sure you've heard the expression often said during emergencies: \"Women and Children first\" Let's explore this data set and find out if that's true!\n\nBefore we begin you should read up on what each of the columns mean in the data dictionary. You can find this information on this page: https://www.kaggle.com/c/titanic/data \n\n\n## Loading the data set\n\nFirst we load the dataset into a Pandas `DataFrame` variable. The `sample(10)` method takes a random sample of 10 passengers from the data set."
    },
    {
      "metadata": {
        "trusted": true
      },
      "cell_type": "code",
      "source": "import pandas as pd\nimport numpy as np\n\n# this turns off warning messages\nimport warnings\nwarnings.filterwarnings('ignore')\n\npassengers = pd.read_csv('CCL-titanic.csv')\npassengers.sample(10)",
      "execution_count": 3,
      "outputs": [
        {
          "output_type": "execute_result",
          "execution_count": 3,
          "data": {
            "text/plain": "     PassengerId  Survived  Pclass  \\\n299          300         1       1   \n89            90         0       3   \n565          566         0       3   \n404          405         0       3   \n804          805         1       3   \n544          545         0       1   \n661          662         0       3   \n163          164         0       3   \n883          884         0       2   \n407          408         1       2   \n\n                                                Name     Sex   Age  SibSp  \\\n299  Baxter, Mrs. James (Helene DeLaudeniere Chaput)  female  50.0      0   \n89                            Celotti, Mr. Francesco    male  24.0      0   \n565                             Davies, Mr. Alfred J    male  24.0      2   \n404                          Oreskovic, Miss. Marija  female  20.0      0   \n804                          Hedman, Mr. Oskar Arvid    male  27.0      0   \n544                       Douglas, Mr. Walter Donald    male  50.0      1   \n661                                Badt, Mr. Mohamed    male  40.0      0   \n163                                  Calic, Mr. Jovo    male  17.0      0   \n883                    Banfield, Mr. Frederick James    male  28.0      0   \n407                   Richards, Master. William Rowe    male   3.0      1   \n\n     Parch            Ticket      Fare    Cabin Embarked  \n299      1          PC 17558  247.5208  B58 B60        C  \n89       0            343275    8.0500      NaN        S  \n565      0         A/4 48871   24.1500      NaN        S  \n404      0            315096    8.6625      NaN        S  \n804      0            347089    6.9750      NaN        S  \n544      0          PC 17761  106.4250      C86        C  \n661      0              2623    7.2250      NaN        C  \n163      0            315093    8.6625      NaN        S  \n883      0  C.A./SOTON 34068   10.5000      NaN        S  \n407      1             29106   18.7500      NaN        S  ",
            "text/html": "<div>\n<table border=\"1\" class=\"dataframe\">\n  <thead>\n    <tr style=\"text-align: right;\">\n      <th></th>\n      <th>PassengerId</th>\n      <th>Survived</th>\n      <th>Pclass</th>\n      <th>Name</th>\n      <th>Sex</th>\n      <th>Age</th>\n      <th>SibSp</th>\n      <th>Parch</th>\n      <th>Ticket</th>\n      <th>Fare</th>\n      <th>Cabin</th>\n      <th>Embarked</th>\n    </tr>\n  </thead>\n  <tbody>\n    <tr>\n      <th>299</th>\n      <td>300</td>\n      <td>1</td>\n      <td>1</td>\n      <td>Baxter, Mrs. James (Helene DeLaudeniere Chaput)</td>\n      <td>female</td>\n      <td>50.0</td>\n      <td>0</td>\n      <td>1</td>\n      <td>PC 17558</td>\n      <td>247.5208</td>\n      <td>B58 B60</td>\n      <td>C</td>\n    </tr>\n    <tr>\n      <th>89</th>\n      <td>90</td>\n      <td>0</td>\n      <td>3</td>\n      <td>Celotti, Mr. Francesco</td>\n      <td>male</td>\n      <td>24.0</td>\n      <td>0</td>\n      <td>0</td>\n      <td>343275</td>\n      <td>8.0500</td>\n      <td>NaN</td>\n      <td>S</td>\n    </tr>\n    <tr>\n      <th>565</th>\n      <td>566</td>\n      <td>0</td>\n      <td>3</td>\n      <td>Davies, Mr. Alfred J</td>\n      <td>male</td>\n      <td>24.0</td>\n      <td>2</td>\n      <td>0</td>\n      <td>A/4 48871</td>\n      <td>24.1500</td>\n      <td>NaN</td>\n      <td>S</td>\n    </tr>\n    <tr>\n      <th>404</th>\n      <td>405</td>\n      <td>0</td>\n      <td>3</td>\n      <td>Oreskovic, Miss. Marija</td>\n      <td>female</td>\n      <td>20.0</td>\n      <td>0</td>\n      <td>0</td>\n      <td>315096</td>\n      <td>8.6625</td>\n      <td>NaN</td>\n      <td>S</td>\n    </tr>\n    <tr>\n      <th>804</th>\n      <td>805</td>\n      <td>1</td>\n      <td>3</td>\n      <td>Hedman, Mr. Oskar Arvid</td>\n      <td>male</td>\n      <td>27.0</td>\n      <td>0</td>\n      <td>0</td>\n      <td>347089</td>\n      <td>6.9750</td>\n      <td>NaN</td>\n      <td>S</td>\n    </tr>\n    <tr>\n      <th>544</th>\n      <td>545</td>\n      <td>0</td>\n      <td>1</td>\n      <td>Douglas, Mr. Walter Donald</td>\n      <td>male</td>\n      <td>50.0</td>\n      <td>1</td>\n      <td>0</td>\n      <td>PC 17761</td>\n      <td>106.4250</td>\n      <td>C86</td>\n      <td>C</td>\n    </tr>\n    <tr>\n      <th>661</th>\n      <td>662</td>\n      <td>0</td>\n      <td>3</td>\n      <td>Badt, Mr. Mohamed</td>\n      <td>male</td>\n      <td>40.0</td>\n      <td>0</td>\n      <td>0</td>\n      <td>2623</td>\n      <td>7.2250</td>\n      <td>NaN</td>\n      <td>C</td>\n    </tr>\n    <tr>\n      <th>163</th>\n      <td>164</td>\n      <td>0</td>\n      <td>3</td>\n      <td>Calic, Mr. Jovo</td>\n      <td>male</td>\n      <td>17.0</td>\n      <td>0</td>\n      <td>0</td>\n      <td>315093</td>\n      <td>8.6625</td>\n      <td>NaN</td>\n      <td>S</td>\n    </tr>\n    <tr>\n      <th>883</th>\n      <td>884</td>\n      <td>0</td>\n      <td>2</td>\n      <td>Banfield, Mr. Frederick James</td>\n      <td>male</td>\n      <td>28.0</td>\n      <td>0</td>\n      <td>0</td>\n      <td>C.A./SOTON 34068</td>\n      <td>10.5000</td>\n      <td>NaN</td>\n      <td>S</td>\n    </tr>\n    <tr>\n      <th>407</th>\n      <td>408</td>\n      <td>1</td>\n      <td>2</td>\n      <td>Richards, Master. William Rowe</td>\n      <td>male</td>\n      <td>3.0</td>\n      <td>1</td>\n      <td>1</td>\n      <td>29106</td>\n      <td>18.7500</td>\n      <td>NaN</td>\n      <td>S</td>\n    </tr>\n  </tbody>\n</table>\n</div>"
          },
          "metadata": {}
        }
      ]
    },
    {
      "metadata": {},
      "cell_type": "markdown",
      "source": "## How many survived?\n\nOne of the first things we should do is figure out how many of the passengers in this data set survived. Let's start with isolating just the `'Survivied'` column into a series:"
    },
    {
      "metadata": {
        "trusted": true
      },
      "cell_type": "code",
      "source": "passengers['Survived'].sample(10)",
      "execution_count": 4,
      "outputs": [
        {
          "output_type": "execute_result",
          "execution_count": 4,
          "data": {
            "text/plain": "706    1\n176    0\n772    0\n670    1\n223    0\n300    1\n782    0\n128    1\n537    1\n734    0\nName: Survived, dtype: int64"
          },
          "metadata": {}
        }
      ]
    },
    {
      "metadata": {},
      "cell_type": "markdown",
      "source": "There's too many to display so we just display a random sample of 10 passengers. \n\n- 1 means the passenger survivied\n- 0 means the passenger died\n\nWhat we really want is to count the number of survivors and deaths. We do this by querying the `value_counts()` of the `['Survived']` column, which returns a `Series` of counts, like this:"
    },
    {
      "metadata": {
        "trusted": true
      },
      "cell_type": "code",
      "source": "passengers['Survived'].value_counts()",
      "execution_count": 5,
      "outputs": [
        {
          "output_type": "execute_result",
          "execution_count": 5,
          "data": {
            "text/plain": "0    549\n1    342\nName: Survived, dtype: int64"
          },
          "metadata": {}
        }
      ]
    },
    {
      "metadata": {},
      "cell_type": "markdown",
      "source": "Only 342 passengers survived, and 549 perished. Let's observe this same data as percentages of the whole. We do this by adding the `normalize=True` named argument to the `value_counts()` method."
    },
    {
      "metadata": {
        "trusted": true
      },
      "cell_type": "code",
      "source": "passengers['Survived'].value_counts(normalize=True)",
      "execution_count": 6,
      "outputs": [
        {
          "output_type": "execute_result",
          "execution_count": 6,
          "data": {
            "text/plain": "0    0.616162\n1    0.383838\nName: Survived, dtype: float64"
          },
          "metadata": {}
        }
      ]
    },
    {
      "metadata": {},
      "cell_type": "markdown",
      "source": "**Just 38% of passengers in this dataset survived.**"
    },
    {
      "metadata": {},
      "cell_type": "markdown",
      "source": "### Now you Try it!\n\n**FIRST** Write a Pandas expression to display counts of males and female passengers using the `Sex` variable:"
    },
    {
      "metadata": {
        "trusted": true
      },
      "cell_type": "code",
      "source": "# todo write code here\npassengers['Sex'].value_counts()",
      "execution_count": 7,
      "outputs": [
        {
          "output_type": "execute_result",
          "execution_count": 7,
          "data": {
            "text/plain": "male      577\nfemale    314\nName: Sex, dtype: int64"
          },
          "metadata": {}
        }
      ]
    },
    {
      "metadata": {},
      "cell_type": "markdown",
      "source": "**NEXT** Write a Pandas expression to display male /female passenger counts as a percentage of the whole number of passengers in the data set."
    },
    {
      "metadata": {
        "trusted": true
      },
      "cell_type": "code",
      "source": "# todo write code here\npassengers['Sex'].value_counts(normalize=True)",
      "execution_count": 8,
      "outputs": [
        {
          "output_type": "execute_result",
          "execution_count": 8,
          "data": {
            "text/plain": "male      0.647587\nfemale    0.352413\nName: Sex, dtype: float64"
          },
          "metadata": {}
        }
      ]
    },
    {
      "metadata": {},
      "cell_type": "markdown",
      "source": "If you got things working, you now know that **35% of passengers were female**."
    },
    {
      "metadata": {},
      "cell_type": "markdown",
      "source": "## Who survivies? Men or Women?\n\nWe now know that 35% of the passengers were female, and 65% we male. \n\n**The next think to think about is how do survivial rates affect these numbers? **\n\nIf the ratio is about the same for surviviors only, then we can conclude that your **Sex** did not play a role in your survival on the RMS Titanic. \n\nLet's find out."
    },
    {
      "metadata": {
        "trusted": true
      },
      "cell_type": "code",
      "source": "survivors = passengers[passengers['Survived'] ==1]\nsurvivors['PassengerId'].count()",
      "execution_count": 9,
      "outputs": [
        {
          "output_type": "execute_result",
          "execution_count": 9,
          "data": {
            "text/plain": "342"
          },
          "metadata": {}
        }
      ]
    },
    {
      "metadata": {},
      "cell_type": "markdown",
      "source": "Still **342** like we discovered originally. Now let's check the **Sex** split among survivors only:"
    },
    {
      "metadata": {
        "trusted": true
      },
      "cell_type": "code",
      "source": "survivors['Sex'].value_counts()",
      "execution_count": 10,
      "outputs": [
        {
          "output_type": "execute_result",
          "execution_count": 10,
          "data": {
            "text/plain": "female    233\nmale      109\nName: Sex, dtype: int64"
          },
          "metadata": {}
        }
      ]
    },
    {
      "metadata": {},
      "cell_type": "markdown",
      "source": "WOW! That is a huge difference! But you probably can't see it easily. Let's represent it in a `DataFrame`, so that it's easier to visualize:"
    },
    {
      "metadata": {
        "trusted": true
      },
      "cell_type": "code",
      "source": "sex_all_series = passengers['Sex'].value_counts()\nsex_survivor_series = survivors['Sex'].value_counts()\n\nsex_comparision_df = pd.DataFrame({ 'AllPassengers' : sex_all_series, 'Survivors' : sex_survivor_series })\nsex_comparision_df['SexSurvivialRate'] = sex_comparision_df['Survivors'] / sex_comparision_df['AllPassengers']\nsex_comparision_df",
      "execution_count": 11,
      "outputs": [
        {
          "output_type": "execute_result",
          "execution_count": 11,
          "data": {
            "text/plain": "        AllPassengers  Survivors  SexSurvivialRate\nfemale            314        233          0.742038\nmale              577        109          0.188908",
            "text/html": "<div>\n<table border=\"1\" class=\"dataframe\">\n  <thead>\n    <tr style=\"text-align: right;\">\n      <th></th>\n      <th>AllPassengers</th>\n      <th>Survivors</th>\n      <th>SexSurvivialRate</th>\n    </tr>\n  </thead>\n  <tbody>\n    <tr>\n      <th>female</th>\n      <td>314</td>\n      <td>233</td>\n      <td>0.742038</td>\n    </tr>\n    <tr>\n      <th>male</th>\n      <td>577</td>\n      <td>109</td>\n      <td>0.188908</td>\n    </tr>\n  </tbody>\n</table>\n</div>"
          },
          "metadata": {}
        }
      ]
    },
    {
      "metadata": {},
      "cell_type": "markdown",
      "source": " **So, females had a 74% survival rate. Much better than the overall rate of 38%**\n \nWe should probably briefly explain the code above. \n\n- The first two lines get a series count of all passengers by Sex (male / female) and count of survivors by sex\n- The third line creates DataFrame. Recall a pandas dataframe is just a dict of series. We have two keys 'AllPassengers' and 'Survivors'\n- The  fourth line creates a new column in the dataframe which is just the survivors / all passengers to get the rate of survival for that Sex.\n\n## Feature Engineering: Adults and Children\n\nSometimes the variable we want to analyze is not readily available, but can be created from existing data. This is commonly referred to as **feature engineering**. The name comes from machine learning where we use data called *features* to predict an outcome. \n\nLet's create a new feature called `'AgeCat'` as follows:\n\n- When **Age** <=18 then 'Child'\n- When **Age** >18 then 'Adult'\n\nThis is easy to do in pandas. First we create the column and set all values to `np.nan` which means 'Not a number'. This is Pandas way of saying no value. Then we set the values based on the rules we set for the feature."
    },
    {
      "metadata": {
        "trusted": true
      },
      "cell_type": "code",
      "source": "passengers['AgeCat'] = np.nan # Not a number\npassengers['AgeCat'][ passengers['Age'] <=18 ] = 'Child'\npassengers['AgeCat'][ passengers['Age'] > 18 ] = 'Adult'\npassengers.sample(5)",
      "execution_count": 12,
      "outputs": [
        {
          "output_type": "execute_result",
          "execution_count": 12,
          "data": {
            "text/plain": "     PassengerId  Survived  Pclass                                 Name  \\\n92            93         0       1          Chaffee, Mr. Herbert Fuller   \n647          648         1       1  Simonius-Blumer, Col. Oberst Alfons   \n624          625         0       3          Bowen, Mr. David John \"Dai\"   \n357          358         0       2            Funk, Miss. Annie Clemmer   \n651          652         1       2                  Doling, Miss. Elsie   \n\n        Sex   Age  SibSp  Parch       Ticket    Fare Cabin Embarked AgeCat  \n92     male  46.0      1      0  W.E.P. 5734  61.175   E31        S  Adult  \n647    male  56.0      0      0        13213  35.500   A26        C  Adult  \n624    male  21.0      0      0        54636  16.100   NaN        S  Adult  \n357  female  38.0      0      0       237671  13.000   NaN        S  Adult  \n651  female  18.0      0      1       231919  23.000   NaN        S  Child  ",
            "text/html": "<div>\n<table border=\"1\" class=\"dataframe\">\n  <thead>\n    <tr style=\"text-align: right;\">\n      <th></th>\n      <th>PassengerId</th>\n      <th>Survived</th>\n      <th>Pclass</th>\n      <th>Name</th>\n      <th>Sex</th>\n      <th>Age</th>\n      <th>SibSp</th>\n      <th>Parch</th>\n      <th>Ticket</th>\n      <th>Fare</th>\n      <th>Cabin</th>\n      <th>Embarked</th>\n      <th>AgeCat</th>\n    </tr>\n  </thead>\n  <tbody>\n    <tr>\n      <th>92</th>\n      <td>93</td>\n      <td>0</td>\n      <td>1</td>\n      <td>Chaffee, Mr. Herbert Fuller</td>\n      <td>male</td>\n      <td>46.0</td>\n      <td>1</td>\n      <td>0</td>\n      <td>W.E.P. 5734</td>\n      <td>61.175</td>\n      <td>E31</td>\n      <td>S</td>\n      <td>Adult</td>\n    </tr>\n    <tr>\n      <th>647</th>\n      <td>648</td>\n      <td>1</td>\n      <td>1</td>\n      <td>Simonius-Blumer, Col. Oberst Alfons</td>\n      <td>male</td>\n      <td>56.0</td>\n      <td>0</td>\n      <td>0</td>\n      <td>13213</td>\n      <td>35.500</td>\n      <td>A26</td>\n      <td>C</td>\n      <td>Adult</td>\n    </tr>\n    <tr>\n      <th>624</th>\n      <td>625</td>\n      <td>0</td>\n      <td>3</td>\n      <td>Bowen, Mr. David John \"Dai\"</td>\n      <td>male</td>\n      <td>21.0</td>\n      <td>0</td>\n      <td>0</td>\n      <td>54636</td>\n      <td>16.100</td>\n      <td>NaN</td>\n      <td>S</td>\n      <td>Adult</td>\n    </tr>\n    <tr>\n      <th>357</th>\n      <td>358</td>\n      <td>0</td>\n      <td>2</td>\n      <td>Funk, Miss. Annie Clemmer</td>\n      <td>female</td>\n      <td>38.0</td>\n      <td>0</td>\n      <td>0</td>\n      <td>237671</td>\n      <td>13.000</td>\n      <td>NaN</td>\n      <td>S</td>\n      <td>Adult</td>\n    </tr>\n    <tr>\n      <th>651</th>\n      <td>652</td>\n      <td>1</td>\n      <td>2</td>\n      <td>Doling, Miss. Elsie</td>\n      <td>female</td>\n      <td>18.0</td>\n      <td>0</td>\n      <td>1</td>\n      <td>231919</td>\n      <td>23.000</td>\n      <td>NaN</td>\n      <td>S</td>\n      <td>Child</td>\n    </tr>\n  </tbody>\n</table>\n</div>"
          },
          "metadata": {}
        }
      ]
    },
    {
      "metadata": {},
      "cell_type": "markdown",
      "source": "Let's get the count and distrubutions of Adults and Children on the passenger list."
    },
    {
      "metadata": {
        "trusted": true
      },
      "cell_type": "code",
      "source": "passengers['AgeCat'].value_counts()",
      "execution_count": 13,
      "outputs": [
        {
          "output_type": "execute_result",
          "execution_count": 13,
          "data": {
            "text/plain": "Adult    575\nChild    139\nName: AgeCat, dtype: int64"
          },
          "metadata": {}
        }
      ]
    },
    {
      "metadata": {},
      "cell_type": "markdown",
      "source": "And here's the percentage as a whole:"
    },
    {
      "metadata": {
        "trusted": true
      },
      "cell_type": "code",
      "source": "passengers['AgeCat'].value_counts(normalize=True)",
      "execution_count": 14,
      "outputs": [
        {
          "output_type": "execute_result",
          "execution_count": 14,
          "data": {
            "text/plain": "Adult    0.805322\nChild    0.194678\nName: AgeCat, dtype: float64"
          },
          "metadata": {}
        }
      ]
    },
    {
      "metadata": {},
      "cell_type": "markdown",
      "source": "So close to **80%** of the passengers were adults. Once again let's look at the ratio of `AgeCat` for survivors only. If your age has no bearing of survivial, then the rates should be the same. \n\nHere's the counts of Adult / Children among the survivors only:"
    },
    {
      "metadata": {
        "trusted": true
      },
      "cell_type": "code",
      "source": "survivors = passengers[passengers['Survived'] ==1]\nsurvivors['AgeCat'].value_counts()",
      "execution_count": 15,
      "outputs": [
        {
          "output_type": "execute_result",
          "execution_count": 15,
          "data": {
            "text/plain": "Adult    220\nChild     70\nName: AgeCat, dtype: int64"
          },
          "metadata": {}
        }
      ]
    },
    {
      "metadata": {},
      "cell_type": "markdown",
      "source": "### Now You Try it!\n\nCalculate the `AgeCat` survival rate, similar to how we did for the `SexSurvivalRate`. "
    },
    {
      "metadata": {
        "trusted": true
      },
      "cell_type": "code",
      "source": "agecat_all_series = passengers['AgeCat'].value_counts()\nagecat_survivor_series = survivors['AgeCat'].value_counts()\n\n# todo make a data frame, add AgeCatSurvivialRate column, display dataframe \nagecat_comparision_df = pd.DataFrame({ 'AllPassengers' : agecat_all_series, 'Survivors' : agecat_survivor_series })\nagecat_comparision_df['ChildSurvivalRate'] = agecat_comparision_df['Survivors'] / agecat_comparision_df['AllPassengers']\nagecat_comparision_df",
      "execution_count": 16,
      "outputs": [
        {
          "output_type": "execute_result",
          "execution_count": 16,
          "data": {
            "text/plain": "       AllPassengers  Survivors  ChildSurvivalRate\nAdult            575        220           0.382609\nChild            139         70           0.503597",
            "text/html": "<div>\n<table border=\"1\" class=\"dataframe\">\n  <thead>\n    <tr style=\"text-align: right;\">\n      <th></th>\n      <th>AllPassengers</th>\n      <th>Survivors</th>\n      <th>ChildSurvivalRate</th>\n    </tr>\n  </thead>\n  <tbody>\n    <tr>\n      <th>Adult</th>\n      <td>575</td>\n      <td>220</td>\n      <td>0.382609</td>\n    </tr>\n    <tr>\n      <th>Child</th>\n      <td>139</td>\n      <td>70</td>\n      <td>0.503597</td>\n    </tr>\n  </tbody>\n</table>\n</div>"
          },
          "metadata": {}
        }
      ]
    },
    {
      "metadata": {},
      "cell_type": "markdown",
      "source": "**So, children had a 50% survival rate, better than the overall rate of 38%**\n\n## So, women and children first?\n\nIt looks like the RMS really did have the motto: \"Women and Children First.\"\n\nHere's our insights. We know:\n\n- If you were a passenger, you had a 38% chance of survival.\n- If you were a female passenger, you had a 74% chance of survival.\n- If you were a child passenger, you had a 50% chance of survival. \n\n\n### Now you try it for Passenger Class\n\nRepeat this process for `Pclass` The passenger class variable. Display the survival rates for each passenger class. What does the information tell you about passenger class and survival rates?\n\nI'll give you a hint... \"Money Talks\"\n"
    },
    {
      "metadata": {
        "trusted": true
      },
      "cell_type": "code",
      "source": "# todo: repeat the analysis in the previous cell for Pclass \nsurvivors['Pclass'].value_counts()\n\npclass_all_series = passengers['Pclass'].value_counts()\npclass_survivor_series = survivors['Pclass'].value_counts()\n\n\npclass_comparision_df = pd.DataFrame({ 'AllPassengers' : pclass_all_series, 'Survivors' : pclass_survivor_series })\npclass_comparision_df['ClassSurvivalRate'] = pclass_comparision_df['Survivors'] / pclass_comparision_df['AllPassengers']\npclass_comparision_df",
      "execution_count": 25,
      "outputs": [
        {
          "output_type": "execute_result",
          "execution_count": 25,
          "data": {
            "text/plain": "   AllPassengers  Survivors  ClassSurvivalRate\n1            NaN        136                NaN\n3            NaN        119                NaN\n2            NaN         87                NaN",
            "text/html": "<div>\n<table border=\"1\" class=\"dataframe\">\n  <thead>\n    <tr style=\"text-align: right;\">\n      <th></th>\n      <th>AllPassengers</th>\n      <th>Survivors</th>\n      <th>ClassSurvivalRate</th>\n    </tr>\n  </thead>\n  <tbody>\n    <tr>\n      <th>1</th>\n      <td>NaN</td>\n      <td>136</td>\n      <td>NaN</td>\n    </tr>\n    <tr>\n      <th>3</th>\n      <td>NaN</td>\n      <td>119</td>\n      <td>NaN</td>\n    </tr>\n    <tr>\n      <th>2</th>\n      <td>NaN</td>\n      <td>87</td>\n      <td>NaN</td>\n    </tr>\n  </tbody>\n</table>\n</div>"
          },
          "metadata": {}
        }
      ]
    },
    {
      "metadata": {
        "trusted": true
      },
      "cell_type": "code",
      "source": "",
      "execution_count": null,
      "outputs": []
    }
  ],
  "metadata": {
    "anaconda-cloud": {},
    "kernelspec": {
      "name": "python3",
      "display_name": "Python 3",
      "language": "python"
    },
    "language_info": {
      "mimetype": "text/x-python",
      "nbconvert_exporter": "python",
      "name": "python",
      "pygments_lexer": "ipython3",
      "version": "3.5.4",
      "file_extension": ".py",
      "codemirror_mode": {
        "version": 3,
        "name": "ipython"
      }
    }
  },
  "nbformat": 4,
  "nbformat_minor": 1
}